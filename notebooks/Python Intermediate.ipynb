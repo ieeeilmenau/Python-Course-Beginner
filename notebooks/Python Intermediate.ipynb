{
 "cells": [
  {
   "cell_type": "code",
   "execution_count": 45,
   "metadata": {},
   "outputs": [],
   "source": [
    "class human:\n",
    "    name = None\n",
    "    age = None\n",
    "    \n",
    "    def __init__(self,name=\"Human\",age = 0):\n",
    "        self.name = name\n",
    "        self.age = age\n",
    "    \n",
    "    def sleep(self):\n",
    "        print(self.name,\" is sleeping\")\n",
    "    \n",
    "    def eat(self):\n",
    "        print(self.name,\" is eating\")"
   ]
  },
  {
   "cell_type": "code",
   "execution_count": 51,
   "metadata": {},
   "outputs": [],
   "source": [
    "temp = human('Jack',23)"
   ]
  },
  {
   "cell_type": "code",
   "execution_count": 52,
   "metadata": {},
   "outputs": [
    {
     "data": {
      "text/plain": [
       "23"
      ]
     },
     "execution_count": 52,
     "metadata": {},
     "output_type": "execute_result"
    }
   ],
   "source": [
    "temp.age"
   ]
  },
  {
   "cell_type": "code",
   "execution_count": 134,
   "metadata": {},
   "outputs": [],
   "source": [
    "class calc:\n",
    "    \n",
    "    result = None\n",
    "    history = []\n",
    "\n",
    "    def __init__(self,starting_value):    \n",
    "        self.result = starting_value\n",
    "        \n",
    "    def __str__(self):\n",
    "        return str(self.result)\n",
    "\n",
    "    def __repr__(self):\n",
    "        return str(self.result)\n",
    "    \n",
    "    def add(self,val):\n",
    "        self.result = self.result + val\n",
    "        self.history.append(\"+\")\n",
    "        self.history.append(val)\n",
    "        return self\n",
    "    \n",
    "    def mul(self,val):\n",
    "        self.result = self.result * val\n",
    "        self.history.append(\"*\")\n",
    "        self.history.append(val)\n",
    "        return self\n",
    "\n",
    "    def div(self,val):\n",
    "        if val !=0:\n",
    "            self.result = self.result / val\n",
    "        else:\n",
    "            return \"Zero division is goin on \"\n",
    "        self.history.append(\"/\")\n",
    "        self.history.append(val)\n",
    "        return self\n",
    "\n",
    "    def sub(self,val):\n",
    "        self.result = self.result - val\n",
    "        self.history.append(\"-\")\n",
    "        self.history.append(val)\n",
    "        return self\n",
    "    \n"
   ]
  },
  {
   "cell_type": "code",
   "execution_count": 142,
   "metadata": {},
   "outputs": [
    {
     "name": "stdout",
     "output_type": "stream",
     "text": [
      "0\n",
      "1\n",
      "2\n",
      "3\n",
      "4\n",
      "5\n",
      "6\n",
      "7\n",
      "8\n",
      "9\n"
     ]
    }
   ],
   "source": [
    "for each in range(10):\n",
    "    print(each)"
   ]
  },
  {
   "cell_type": "code",
   "execution_count": 231,
   "metadata": {},
   "outputs": [],
   "source": [
    "class range_m():\n",
    "    \n",
    "    start,end,order = None, None, 1\n",
    "    temp = []\n",
    "    \n",
    "    def __init__(self,st,ed,step=1,order= 1):\n",
    "        self.start = st\n",
    "        self.end = ed\n",
    "        self.order = order\n",
    "        \n",
    "        if st>ed:\n",
    "            step = 0 - step\n",
    "            count = st\n",
    "            while count>=ed:\n",
    "                self.temp.append(count)\n",
    "                count+=step\n",
    "\n",
    "        if st<ed:\n",
    "            count = st\n",
    "            while count>=ed:\n",
    "                self.temp.append(count)\n",
    "                count+=step\n",
    "\n",
    "                \n",
    "    def __repr__(self):\n",
    "        return \"range_m(\"+str(self.start)+\",\"+str(self.end)+\")\"\n",
    "    \n",
    "    def __iter__(self):\n",
    "        \n",
    "        if self.order==1:\n",
    "            return iter(self.temp)\n",
    "        elif self.order== -1:\n",
    "            return iter(self.temp[::-1])\n",
    "        else:\n",
    "            print(\"set a valid value for order\")\n",
    "    \n",
    "    \n",
    "\n",
    "    "
   ]
  },
  {
   "cell_type": "code",
   "execution_count": 232,
   "metadata": {},
   "outputs": [
    {
     "name": "stdout",
     "output_type": "stream",
     "text": [
      "2, 5, 8, 11, 14, 17, 20, "
     ]
    }
   ],
   "source": [
    "for each in range_m(20,0,3,-1):\n",
    "    print(each,end = ', ')"
   ]
  },
  {
   "cell_type": "code",
   "execution_count": 248,
   "metadata": {},
   "outputs": [],
   "source": [
    "class demo:\n",
    "    # class variable\n",
    "    class_val = 23\n",
    "    \n",
    "    def fun(self):\n",
    "        # local variable\n",
    "        class_val = 40\n",
    "        \n",
    "        print(class_val)"
   ]
  },
  {
   "cell_type": "code",
   "execution_count": 253,
   "metadata": {},
   "outputs": [],
   "source": [
    "names = ['Bob','Jack','Rose']"
   ]
  },
  {
   "cell_type": "code",
   "execution_count": 254,
   "metadata": {},
   "outputs": [],
   "source": [
    "ages = [12,34,45]"
   ]
  },
  {
   "cell_type": "code",
   "execution_count": 257,
   "metadata": {},
   "outputs": [
    {
     "name": "stdout",
     "output_type": "stream",
     "text": [
      "Bob 12\n",
      "Jack 34\n",
      "Rose 45\n"
     ]
    }
   ],
   "source": [
    "for each1,each2 in zip(names,ages):\n",
    "    print(each1,each2)"
   ]
  }
 ],
 "metadata": {
  "kernelspec": {
   "display_name": "Python 3",
   "language": "python",
   "name": "python3"
  },
  "language_info": {
   "codemirror_mode": {
    "name": "ipython",
    "version": 3
   },
   "file_extension": ".py",
   "mimetype": "text/x-python",
   "name": "python",
   "nbconvert_exporter": "python",
   "pygments_lexer": "ipython3",
   "version": "3.7.4"
  }
 },
 "nbformat": 4,
 "nbformat_minor": 2
}
